{
 "cells": [
  {
   "cell_type": "markdown",
   "id": "2483556d",
   "metadata": {},
   "source": [
    "# Transmission tutorial\n",
    "This is a tutorial aimed to demonstrate simulating and calculating detectability for a basic case of Earth transiting a host star 5 pc away using the SPECTR framework."
   ]
  },
  {
   "cell_type": "markdown",
   "id": "c5470697",
   "metadata": {},
   "source": [
    "## Step 1: import modules that we will need"
   ]
  },
  {
   "cell_type": "code",
   "execution_count": 1,
   "id": "e4a8de6d",
   "metadata": {},
   "outputs": [],
   "source": [
    "import numpy as np\n",
    "import pickle\n",
    "import astropy.units as unit\n",
    "import sys\n",
    "sys.path.append(\"/gscratch/vsm/mcurr/PACKAGES/\") # this should be the path where SPECTR is downloaded\n",
    "import high_res_tools as hrt\n",
    "import math\n",
    "from scipy.interpolate import splrep, splev\n",
    "import matplotlib.pyplot as plt"
   ]
  },
  {
   "cell_type": "markdown",
   "id": "ce39af76",
   "metadata": {},
   "source": [
    "## Step 2: define parameters for the system in question\n",
    "This is only for using SMART spectra. "
   ]
  },
  {
   "cell_type": "code",
   "execution_count": 2,
   "id": "8c041d73",
   "metadata": {},
   "outputs": [],
   "source": [
    "star = \"trap1\"\n",
    "env = \"pie\" # environment is pre-industrial earth\n",
    "molecule = \"o2\"\n",
    "band = \"1270\" # absorption feature in nm\n",
    "RV_system = 20 # radial velocity of system in km/s\n",
    "RV_bary = 2 # barycentric radial velocity in km/s\n",
    "incl = 90. # 90 degree inclination for transmission\n",
    "obs_type = \"tran\" # we are calculating transmission spectroscopy\n",
    "add_clouds = False # we are not adding clouds for now\n",
    "resolution = 100000 # spectral resolving power of 100k \n",
    "tele_diam = 30 * unit.m # diameter of telescope in m\n",
    "dist = 5.0 # distance to system in pc\n",
    "\n",
    "# define some system properties\n",
    "R_star = 0.1234 # radius of star in solar radii\n",
    "P_rot_star = 82.6 # rotation period of star in days\n",
    "P_orb = 348823.1855 # orbital period of planet in s\n",
    "R_plan = 1.0 # radius of planet in earth radii\n",
    "P_rot_plan = P_orb # synchronous rotator \n",
    "a_p = 0.027133822295365997 # semi-major axis of planet in AU\n",
    "M_s = 0.082 # star mass in solar masses\n",
    "M_p = 1 # planet mass\n",
    "\n",
    "transit_duration = 60*60 # transit duration in s\n",
    "texp = transit_duration # set the exposure time to be a full transit duration (only exposing one frame for this tutorial)\n",
    "\n",
    "phases = np.array([90.])*unit.deg # only looking at one phase (when the planet is transiting)\n",
    "\n",
    "nspec = len(phases) # number of exposures we are taking\n"
   ]
  },
  {
   "cell_type": "markdown",
   "id": "155d4214",
   "metadata": {},
   "source": [
    "## Step 3: Initiate an instance of SPECTR"
   ]
  },
  {
   "cell_type": "code",
   "execution_count": 3,
   "id": "a76b9e1d",
   "metadata": {},
   "outputs": [],
   "source": [
    "observation = hrt.pipeline.SimulateObservation(star, env, molecule, band, obs_type, add_clouds=add_clouds, instrument_R=resolution)\n",
    "observation.get_wl_bounds()"
   ]
  },
  {
   "cell_type": "markdown",
   "id": "81f5c1c1",
   "metadata": {},
   "source": [
    "## Step 4: Load SMART spectra"
   ]
  },
  {
   "cell_type": "code",
   "execution_count": 4,
   "id": "97f3281d",
   "metadata": {},
   "outputs": [],
   "source": [
    "# Note: the path will have to be to where your smart spectra are\n",
    "observation.load_smart_spectra(path='/Users/mcurr/PROJECTS/terrestrial_HRCCS/metadata/smart_runs/{}_{}/tran/{}/'.format(star, env, molecule))\n"
   ]
  },
  {
   "cell_type": "markdown",
   "id": "1e1b4da4",
   "metadata": {},
   "source": [
    "## Step 4a: If you do not have access to SMART spectra:\n",
    "### You will have to manually assign the parameters:\n",
    "- `observation.lam`\n",
    "- `observation.fstar`\n",
    "- `observation.fplan`\n",
    "- `observation.fplan_no_mol`\n",
    "- `observation.tdepth`\n",
    "- `observation.tdepth_no_mol`\n",
    "- `observation.tdepth_onlymol`\n",
    "### Please see `observation.load_smart_spectra` for a description of these variables\n"
   ]
  },
  {
   "cell_type": "markdown",
   "id": "419aec36",
   "metadata": {},
   "source": [
    "## Step 5: Simulate an observation\n",
    "Note: you will need skycalc_cli installed (https://www.eso.org/observing/etc/doc/skycalc/helpskycalccli.html)\n",
    "and you will need a directory `../metadata/sky/` created (or alter the source code at the skycalc.run_skycalc() line in pipeline.py to call the skycalc output file whatever you want)"
   ]
  },
  {
   "cell_type": "code",
   "execution_count": 5,
   "id": "36938de2",
   "metadata": {},
   "outputs": [
    {
     "name": "stderr",
     "output_type": "stream",
     "text": [
      "/Users/mcurr/PROJECTS/high_res_tools/manipulate_spectra.py:45: RuntimeWarning: invalid value encountered in sqrt\n",
      "  kernel = c1 * np.sqrt(1.0 - lambda_ratio_sqr) + c2 * (1.0 - lambda_ratio_sqr)\n"
     ]
    },
    {
     "name": "stdout",
     "output_type": "stream",
     "text": [
      "SKYCALC output file already exists. Running with ../metadata/sky/skycalc_o2_1270.fits\n"
     ]
    }
   ],
   "source": [
    "# simulate initial observation\n",
    "observation.run(incl,\n",
    "                R_star,\n",
    "                P_rot_star,\n",
    "                P_orb, R_plan,\n",
    "                P_rot_plan,\n",
    "                a_p,\n",
    "                M_s,\n",
    "                M_p,\n",
    "                RV_system,\n",
    "                RV_bary,\n",
    "                texp,\n",
    "                phases,\n",
    "                dist,\n",
    "                tele_diam.value)\n",
    "\n",
    "assert ~np.isnan(np.sum(observation.signal_matrix)), \"There is a nan in the simulated data\"\n",
    "rvtot =  np.ones_like(phases.value)*(observation.RV_sys + observation.RV_bary )# make an array of the total RV shift"
   ]
  },
  {
   "cell_type": "markdown",
   "id": "acb022b5",
   "metadata": {},
   "source": [
    "## Step 6: Gather the signal/noise components"
   ]
  },
  {
   "cell_type": "code",
   "execution_count": 6,
   "id": "370fafbb",
   "metadata": {},
   "outputs": [],
   "source": [
    "signal_per_night = observation.signal_matrix\n",
    "\n",
    "# take care of any values less than zero\n",
    "signal_less_zero = (signal_per_night < 0)\n",
    "signal_per_night[signal_less_zero] = 0.\n",
    "\n",
    "# out of transit:\n",
    "signal_oot_per_night = observation.signal_oot_matrix\n",
    "signal_oot_less_zero = (signal_oot_per_night < 0)\n",
    "signal_oot_per_night[signal_oot_less_zero] = 0.    \n",
    "\n",
    "#Noise:\n",
    "read_noise_per_night = observation.read_noise[observation.data_naninds]\n",
    "dark_noise_per_night = observation.dark_noise[observation.data_naninds]\n",
    "sky_noise_per_night = observation.sky_noise[observation.data_naninds]\n",
    "\n"
   ]
  },
  {
   "cell_type": "markdown",
   "id": "966c704e",
   "metadata": {},
   "source": [
    "## Step 7: Define how many transits you want to observe and add appropriate noise"
   ]
  },
  {
   "cell_type": "code",
   "execution_count": 7,
   "id": "cd421b2d",
   "metadata": {},
   "outputs": [],
   "source": [
    "N_transits = 100 # let's observe 100 transits for this tutorial \n",
    "\n",
    "# in transit:\n",
    "signal = signal_per_night * N_transits\n",
    "noise = signal + sky_noise_per_night**2*N_transits + dark_noise_per_night**2*N_transits + read_noise_per_night**2*N_transits\n",
    "\n",
    "# out of transit:\n",
    "signal_oot = signal_oot_per_night * N_transits\n",
    "noise_oot = signal_oot + sky_noise_per_night**2*N_transits + dark_noise_per_night**2*N_transits + read_noise_per_night**2*N_transits\n",
    "\n",
    "# add simulated noise\n",
    "poisson_draw = np.random.randn(signal.shape[0], signal.shape[1], signal.shape[2])\n",
    "spec = signal + np.sqrt(noise)*poisson_draw # noisy spectrum in transit\n",
    "\n",
    "poisson_draw_oot = np.random.randn(signal.shape[0], signal.shape[1], signal.shape[2])\n",
    "spec_oot = signal_oot + np.sqrt(noise_oot)*poisson_draw_oot # noisy spectrum out of transit\n",
    "\n",
    "# divide in and out of transit spectra to get rid of tellurics\n",
    "obs_spec = spec / spec_oot\n"
   ]
  },
  {
   "cell_type": "markdown",
   "id": "84552b4d",
   "metadata": {},
   "source": [
    "## Step 6: Congrats, you have simulated a spectrum! Let's plot it."
   ]
  },
  {
   "cell_type": "code",
   "execution_count": 8,
   "id": "e09502f6",
   "metadata": {},
   "outputs": [
    {
     "data": {
      "text/plain": [
       "Text(0, 0.5, 'Transit depth')"
      ]
     },
     "execution_count": 8,
     "metadata": {},
     "output_type": "execute_result"
    },
    {
     "name": "stderr",
     "output_type": "stream",
     "text": [
      "findfont: Font family ['serif'] not found. Falling back to DejaVu Sans.\n",
      "findfont: Generic family 'serif' not found because none of the following families were found: Computer Modern\n"
     ]
    },
    {
     "data": {
      "image/png": "[encoded data removed]",
      "text/plain": [
       "<Figure size 432x288 with 1 Axes>"
      ]
     },
     "metadata": {
      "needs_background": "light"
     },
     "output_type": "display_data"
    }
   ],
   "source": [
    "plt.figure()\n",
    "plt.plot(observation.instrument_lam[0, 10:-10], obs_spec[0, 0, 10:-10])\n",
    "plt.xlabel(\"Wavelength [um]\")\n",
    "plt.ylabel(\"Transit depth\")"
   ]
  },
  {
   "cell_type": "markdown",
   "id": "21f7ac8e",
   "metadata": {},
   "source": [
    "# Now we will focus on detecting our molecule in this spectrum. We will compute a detection significance using a cross-correlation analysis"
   ]
  },
  {
   "cell_type": "markdown",
   "id": "28c2b14b",
   "metadata": {},
   "source": [
    "## Step 7: Run a high pass filter over the data do get rid of low-frequency trends\n",
    "Note: you can do fancy things here to reject outliers, but for now we will run a high pass filter on the data without rejecting any outliers."
   ]
  },
  {
   "cell_type": "code",
   "execution_count": 9,
   "id": "5e173be7",
   "metadata": {},
   "outputs": [],
   "source": [
    "def run_hipass_phase_dep(arr):\n",
    "    nbin = 100\n",
    "    norders, nph, nlam = arr.shape\n",
    "\n",
    "\n",
    "    bins = int(nlam / nbin)\n",
    "    xb = np.arange(nbin)*bins + bins/2.0\n",
    "    yb = np.zeros(nbin+2)\n",
    "    xb = np.append(np.append(0,xb),nlam-1)\n",
    "    for io in range(norders):\n",
    "        for j in range(nph):\n",
    "            for ib in range(nbin):\n",
    "                imin = int(ib*bins)\n",
    "                imax = int(imin + bins)\n",
    "                yb[ib+1] = np.nanmean(arr[io,j,imin:imax])\n",
    "                yb[0] = arr[io, j, 0]\n",
    "                yb[-1] = arr[io, j, -1]\n",
    "            cs_bin = splrep(xb,yb,s=0.0)\n",
    "            fit = splev(np.arange(nlam),cs_bin,der=0)\n",
    "            arr[io,j,] -= fit\n",
    "\n",
    "    return arr\n",
    "\n",
    "# hipass on data (no outlier rejection)\n",
    "data_hipass = run_hipass_phase_dep(obs_spec)"
   ]
  },
  {
   "cell_type": "markdown",
   "id": "974f7487",
   "metadata": {},
   "source": [
    "### Step 7a: Run a high pass filter over the template spectrum\n"
   ]
  },
  {
   "cell_type": "code",
   "execution_count": 10,
   "id": "9cb88a2e",
   "metadata": {},
   "outputs": [],
   "source": [
    "def run_hipass_single(arr):\n",
    "    nbin = 100\n",
    "    nlam = len(arr)\n",
    "    bins = int(nlam / nbin)\n",
    "    xb = np.arange(nbin)*bins + bins/2.0\n",
    "    yb = np.zeros(nbin+2)\n",
    "    xb = np.append(np.append(0,xb),nlam-1)\n",
    "    for ib in range(nbin):\n",
    "        imin = int(ib*bins)\n",
    "        imax = int(imin + bins)\n",
    "        yb[ib+1] = np.mean(arr[imin:imax])\n",
    "        yb[0] = arr[0]\n",
    "        yb[-1] = arr[-1]\n",
    "    cs_bin = splrep(xb,yb,s=0.0)\n",
    "    fit = splev(np.arange(nlam),cs_bin,der=0)\n",
    "    arr -= fit\n",
    "    return arr\n",
    "    \n",
    "model_template = 1 - observation.tdepth_onlymol\n",
    "model_template_hipass = run_hipass_single(model_template)"
   ]
  },
  {
   "cell_type": "markdown",
   "id": "e9e5c289",
   "metadata": {},
   "source": [
    "# Step 8: Cross-correlation with SPECTR framework"
   ]
  },
  {
   "cell_type": "code",
   "execution_count": 11,
   "id": "03d45299",
   "metadata": {},
   "outputs": [],
   "source": [
    "# get unique values in case smart outout has duplicate lam vals (this happens sometimes)\n",
    "unique_vals, unique_inds = np.unique(observation.lam, return_index=True)\n",
    "\n",
    "len_ccf = 101 # length of cc function\n",
    "\n",
    "# cross-correlate\n",
    "ccf, rv_grid = hrt.cross_correlation.cc_at_vrest(observation.instrument_lam[:, 10:-10], data_hipass[:, :, 10:-10], observation.lam[unique_inds], model_template_hipass[unique_inds], observation.K_p.value, phases, rvtot, len_ccf, hipass=False)\n",
    "        "
   ]
  },
  {
   "cell_type": "markdown",
   "id": "99013bc9",
   "metadata": {},
   "source": [
    "## Step 9: Plot the cross-correlation function!"
   ]
  },
  {
   "cell_type": "code",
   "execution_count": 12,
   "id": "b695aadd",
   "metadata": {},
   "outputs": [
    {
     "data": {
      "text/plain": [
       "Text(0, 0.5, 'Correlation Coefficient')"
      ]
     },
     "execution_count": 12,
     "metadata": {},
     "output_type": "execute_result"
    },
    {
     "data": {
      "image/png": "[encoded data removed]",
      "text/plain": [
       "<Figure size 432x288 with 1 Axes>"
      ]
     },
     "metadata": {
      "needs_background": "light"
     },
     "output_type": "display_data"
    }
   ],
   "source": [
    "plt.figure()\n",
    "plt.plot(rv_grid, ccf[0,0])\n",
    "plt.axvline(0, color=\"k\", linestyle=\":\")\n",
    "plt.xlabel(r\"$\\Delta$v [km/s]\")\n",
    "plt.ylabel(\"Correlation Coefficient\")"
   ]
  },
  {
   "cell_type": "markdown",
   "id": "a917c053",
   "metadata": {},
   "source": [
    "## Step 10: Looks like we have a detection! A detection shows up as a spike at zero in the CCF. \n",
    "## Now we will compute a detection significance using the built-in SPECTR function"
   ]
  },
  {
   "cell_type": "code",
   "execution_count": 13,
   "id": "84da1927",
   "metadata": {},
   "outputs": [],
   "source": [
    "# integrate the ccf (only for multiple exposures, it doesn't matter in this example)\n",
    "# integrate ccf\n",
    "ccf_integrated = np.sum(np.sum(ccf, axis=0), axis=0)\n",
    "\n",
    "\n",
    "# First we'll run a hipass filter over the CCF to get rid of any aliasing that may be present\n",
    "# do a hipass on the ccf\n",
    "nbin = 10\n",
    "bins = int(len(rv_grid) / nbin)\n",
    "xb = np.arange(nbin)*bins + bins/2.0\n",
    "yb = np.zeros(nbin+2)\n",
    "\n",
    "xb = np.append(np.append(0,xb),len(rv_grid)-1)\n",
    "\n",
    "for ib in range(nbin):\n",
    "    imin = int(ib*bins)\n",
    "    imax = int(imin + bins)\n",
    "    yb[ib+1] = np.mean(ccf_integrated[imin:imax])\n",
    "cs_bin = splrep(xb,yb,s=0.0)\n",
    "fit = splev(np.arange(len(rv_grid)),cs_bin,der=0)\n",
    "ccf_hipass = ccf_integrated - fit"
   ]
  },
  {
   "cell_type": "code",
   "execution_count": 14,
   "id": "91bac0a2",
   "metadata": {},
   "outputs": [],
   "source": [
    "cc_sig = hrt.cross_correlation.calc_significance_chi2(ccf_hipass, rv_grid, trail_bound=5)"
   ]
  },
  {
   "cell_type": "code",
   "execution_count": 15,
   "id": "d7d79656",
   "metadata": {},
   "outputs": [
    {
     "name": "stdout",
     "output_type": "stream",
     "text": [
      "Our detection significance is 4.081453301894303\n"
     ]
    }
   ],
   "source": [
    "print(\"Our detection significance is\", cc_sig)"
   ]
  },
  {
   "cell_type": "markdown",
   "id": "09b3b7e3",
   "metadata": {},
   "source": [
    "# Congrats, this is the end of the tutorial!\n",
    "## Of course, this shows just the bare minimum of what SPECTR can do. For now, please feel free to explore the source code, and I hope to write more comprehensive tutorials in the future. Please get in touch with me if you have any questions or spot any errors. Thank you for reading! "
   ]
  },
  {
   "cell_type": "code",
   "execution_count": null,
   "id": "3c930724",
   "metadata": {},
   "outputs": [],
   "source": []
  }
 ],
 "metadata": {
  "kernelspec": {
   "display_name": "Python 3 (ipykernel)",
   "language": "python",
   "name": "python3"
  },
  "language_info": {
   "codemirror_mode": {
    "name": "ipython",
    "version": 3
   },
   "file_extension": ".py",
   "mimetype": "text/x-python",
   "name": "python",
   "nbconvert_exporter": "python",
   "pygments_lexer": "ipython3",
   "version": "3.9.12"
  }
 },
 "nbformat": 4,
 "nbformat_minor": 5
}
